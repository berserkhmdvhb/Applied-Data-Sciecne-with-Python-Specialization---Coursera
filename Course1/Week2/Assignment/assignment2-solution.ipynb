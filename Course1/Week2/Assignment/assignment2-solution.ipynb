{
 "cells": [
  {
   "cell_type": "markdown",
   "metadata": {
    "deletable": false,
    "editable": false,
    "nbgrader": {
     "checksum": "5a8d839ee00398fa3bd3bc58ec642beb",
     "grade": false,
     "grade_id": "cell-a839e7b47494b4c3",
     "locked": true,
     "schema_version": 1,
     "solution": false
    }
   },
   "source": [
    "# Assignment 2\n",
    "For this assignment you'll be looking at 2017 data on immunizations from the CDC. Your datafile for this assignment is in [assets/NISPUF17.csv](assets/NISPUF17.csv). A data users guide for this, which you'll need to map the variables in the data to the questions being asked, is available at [assets/NIS-PUF17-DUG.pdf](assets/NIS-PUF17-DUG.pdf). **Note: you may have to go to your Jupyter tree (click on the Coursera image) and navigate to the assignment 2 assets folder to see this PDF file).**"
   ]
  },
  {
   "cell_type": "code",
   "execution_count": 9,
   "metadata": {},
   "outputs": [
    {
     "data": {
      "text/html": [
       "<div>\n",
       "<style scoped>\n",
       "    .dataframe tbody tr th:only-of-type {\n",
       "        vertical-align: middle;\n",
       "    }\n",
       "\n",
       "    .dataframe tbody tr th {\n",
       "        vertical-align: top;\n",
       "    }\n",
       "\n",
       "    .dataframe thead th {\n",
       "        text-align: right;\n",
       "    }\n",
       "</style>\n",
       "<table border=\"1\" class=\"dataframe\">\n",
       "  <thead>\n",
       "    <tr style=\"text-align: right;\">\n",
       "      <th></th>\n",
       "      <th>Unnamed: 0</th>\n",
       "      <th>SEQNUMC</th>\n",
       "      <th>SEQNUMHH</th>\n",
       "      <th>PDAT</th>\n",
       "      <th>PROVWT_D</th>\n",
       "      <th>RDDWT_D</th>\n",
       "      <th>STRATUM</th>\n",
       "      <th>YEAR</th>\n",
       "      <th>AGECPOXR</th>\n",
       "      <th>HAD_CPOX</th>\n",
       "      <th>...</th>\n",
       "      <th>XVRCTY2</th>\n",
       "      <th>XVRCTY3</th>\n",
       "      <th>XVRCTY4</th>\n",
       "      <th>XVRCTY5</th>\n",
       "      <th>XVRCTY6</th>\n",
       "      <th>XVRCTY7</th>\n",
       "      <th>XVRCTY8</th>\n",
       "      <th>XVRCTY9</th>\n",
       "      <th>INS_STAT2_I</th>\n",
       "      <th>INS_BREAK_I</th>\n",
       "    </tr>\n",
       "  </thead>\n",
       "  <tbody>\n",
       "    <tr>\n",
       "      <th>0</th>\n",
       "      <td>1</td>\n",
       "      <td>128521</td>\n",
       "      <td>12852</td>\n",
       "      <td>2</td>\n",
       "      <td>NaN</td>\n",
       "      <td>235.916956</td>\n",
       "      <td>1031</td>\n",
       "      <td>2017</td>\n",
       "      <td>NaN</td>\n",
       "      <td>2</td>\n",
       "      <td>...</td>\n",
       "      <td></td>\n",
       "      <td></td>\n",
       "      <td>NaN</td>\n",
       "      <td>NaN</td>\n",
       "      <td>NaN</td>\n",
       "      <td>NaN</td>\n",
       "      <td>NaN</td>\n",
       "      <td>NaN</td>\n",
       "      <td>NaN</td>\n",
       "      <td>NaN</td>\n",
       "    </tr>\n",
       "    <tr>\n",
       "      <th>1</th>\n",
       "      <td>2</td>\n",
       "      <td>10741</td>\n",
       "      <td>1074</td>\n",
       "      <td>2</td>\n",
       "      <td>NaN</td>\n",
       "      <td>957.353840</td>\n",
       "      <td>1068</td>\n",
       "      <td>2017</td>\n",
       "      <td>NaN</td>\n",
       "      <td>2</td>\n",
       "      <td>...</td>\n",
       "      <td></td>\n",
       "      <td></td>\n",
       "      <td>NaN</td>\n",
       "      <td>NaN</td>\n",
       "      <td>NaN</td>\n",
       "      <td>NaN</td>\n",
       "      <td>NaN</td>\n",
       "      <td>NaN</td>\n",
       "      <td>NaN</td>\n",
       "      <td>NaN</td>\n",
       "    </tr>\n",
       "    <tr>\n",
       "      <th>2</th>\n",
       "      <td>3</td>\n",
       "      <td>220011</td>\n",
       "      <td>22001</td>\n",
       "      <td>2</td>\n",
       "      <td>NaN</td>\n",
       "      <td>189.611299</td>\n",
       "      <td>1050</td>\n",
       "      <td>2017</td>\n",
       "      <td>NaN</td>\n",
       "      <td>2</td>\n",
       "      <td>...</td>\n",
       "      <td></td>\n",
       "      <td></td>\n",
       "      <td>NaN</td>\n",
       "      <td>NaN</td>\n",
       "      <td>NaN</td>\n",
       "      <td>NaN</td>\n",
       "      <td>NaN</td>\n",
       "      <td>NaN</td>\n",
       "      <td>NaN</td>\n",
       "      <td>NaN</td>\n",
       "    </tr>\n",
       "    <tr>\n",
       "      <th>3</th>\n",
       "      <td>4</td>\n",
       "      <td>86131</td>\n",
       "      <td>8613</td>\n",
       "      <td>1</td>\n",
       "      <td>675.430817</td>\n",
       "      <td>333.447418</td>\n",
       "      <td>1040</td>\n",
       "      <td>2017</td>\n",
       "      <td>NaN</td>\n",
       "      <td>2</td>\n",
       "      <td>...</td>\n",
       "      <td></td>\n",
       "      <td></td>\n",
       "      <td>NaN</td>\n",
       "      <td>NaN</td>\n",
       "      <td>NaN</td>\n",
       "      <td>NaN</td>\n",
       "      <td>NaN</td>\n",
       "      <td>NaN</td>\n",
       "      <td>1.0</td>\n",
       "      <td>2.0</td>\n",
       "    </tr>\n",
       "    <tr>\n",
       "      <th>4</th>\n",
       "      <td>5</td>\n",
       "      <td>227141</td>\n",
       "      <td>22714</td>\n",
       "      <td>1</td>\n",
       "      <td>482.617748</td>\n",
       "      <td>278.768063</td>\n",
       "      <td>1008</td>\n",
       "      <td>2017</td>\n",
       "      <td>NaN</td>\n",
       "      <td>2</td>\n",
       "      <td>...</td>\n",
       "      <td></td>\n",
       "      <td></td>\n",
       "      <td>NaN</td>\n",
       "      <td>NaN</td>\n",
       "      <td>NaN</td>\n",
       "      <td>NaN</td>\n",
       "      <td>NaN</td>\n",
       "      <td>NaN</td>\n",
       "      <td>2.0</td>\n",
       "      <td>1.0</td>\n",
       "    </tr>\n",
       "  </tbody>\n",
       "</table>\n",
       "<p>5 rows × 454 columns</p>\n",
       "</div>"
      ],
      "text/plain": [
       "   Unnamed: 0  SEQNUMC  SEQNUMHH  PDAT    PROVWT_D     RDDWT_D  STRATUM  YEAR  \\\n",
       "0           1   128521     12852     2         NaN  235.916956     1031  2017   \n",
       "1           2    10741      1074     2         NaN  957.353840     1068  2017   \n",
       "2           3   220011     22001     2         NaN  189.611299     1050  2017   \n",
       "3           4    86131      8613     1  675.430817  333.447418     1040  2017   \n",
       "4           5   227141     22714     1  482.617748  278.768063     1008  2017   \n",
       "\n",
       "   AGECPOXR  HAD_CPOX  ...  XVRCTY2  XVRCTY3  XVRCTY4  XVRCTY5  XVRCTY6  \\\n",
       "0       NaN         2  ...                        NaN      NaN      NaN   \n",
       "1       NaN         2  ...                        NaN      NaN      NaN   \n",
       "2       NaN         2  ...                        NaN      NaN      NaN   \n",
       "3       NaN         2  ...                        NaN      NaN      NaN   \n",
       "4       NaN         2  ...                        NaN      NaN      NaN   \n",
       "\n",
       "   XVRCTY7  XVRCTY8  XVRCTY9  INS_STAT2_I  INS_BREAK_I  \n",
       "0      NaN      NaN      NaN          NaN          NaN  \n",
       "1      NaN      NaN      NaN          NaN          NaN  \n",
       "2      NaN      NaN      NaN          NaN          NaN  \n",
       "3      NaN      NaN      NaN          1.0          2.0  \n",
       "4      NaN      NaN      NaN          2.0          1.0  \n",
       "\n",
       "[5 rows x 454 columns]"
      ]
     },
     "execution_count": 9,
     "metadata": {},
     "output_type": "execute_result"
    }
   ],
   "source": [
    "#mine\n",
    "import pandas as pd\n",
    "import numpy as np\n",
    "df = pd.read_csv(\"assets/NISPUF17.csv\")\n",
    "df.head()"
   ]
  },
  {
   "cell_type": "code",
   "execution_count": 10,
   "metadata": {},
   "outputs": [
    {
     "data": {
      "text/html": [
       "<div>\n",
       "<style scoped>\n",
       "    .dataframe tbody tr th:only-of-type {\n",
       "        vertical-align: middle;\n",
       "    }\n",
       "\n",
       "    .dataframe tbody tr th {\n",
       "        vertical-align: top;\n",
       "    }\n",
       "\n",
       "    .dataframe thead th {\n",
       "        text-align: right;\n",
       "    }\n",
       "</style>\n",
       "<table border=\"1\" class=\"dataframe\">\n",
       "  <thead>\n",
       "    <tr style=\"text-align: right;\">\n",
       "      <th></th>\n",
       "      <th>Unnamed: 0</th>\n",
       "      <th>SEQNUMC</th>\n",
       "      <th>SEQNUMHH</th>\n",
       "      <th>PDAT</th>\n",
       "      <th>PROVWT_D</th>\n",
       "      <th>RDDWT_D</th>\n",
       "      <th>STRATUM</th>\n",
       "      <th>YEAR</th>\n",
       "      <th>AGECPOXR</th>\n",
       "      <th>HAD_CPOX</th>\n",
       "      <th>...</th>\n",
       "      <th>XROTTY8</th>\n",
       "      <th>XROTTY9</th>\n",
       "      <th>XVRCTY4</th>\n",
       "      <th>XVRCTY5</th>\n",
       "      <th>XVRCTY6</th>\n",
       "      <th>XVRCTY7</th>\n",
       "      <th>XVRCTY8</th>\n",
       "      <th>XVRCTY9</th>\n",
       "      <th>INS_STAT2_I</th>\n",
       "      <th>INS_BREAK_I</th>\n",
       "    </tr>\n",
       "  </thead>\n",
       "  <tbody>\n",
       "    <tr>\n",
       "      <th>count</th>\n",
       "      <td>28465.000000</td>\n",
       "      <td>28465.000000</td>\n",
       "      <td>28465.000000</td>\n",
       "      <td>28465.000000</td>\n",
       "      <td>15333.000000</td>\n",
       "      <td>28465.000000</td>\n",
       "      <td>28465.000000</td>\n",
       "      <td>28465.0</td>\n",
       "      <td>390.000000</td>\n",
       "      <td>28465.000000</td>\n",
       "      <td>...</td>\n",
       "      <td>0.0</td>\n",
       "      <td>0.0</td>\n",
       "      <td>0.0</td>\n",
       "      <td>0.0</td>\n",
       "      <td>0.0</td>\n",
       "      <td>0.0</td>\n",
       "      <td>0.0</td>\n",
       "      <td>0.0</td>\n",
       "      <td>15333.000000</td>\n",
       "      <td>15307.000000</td>\n",
       "    </tr>\n",
       "    <tr>\n",
       "      <th>mean</th>\n",
       "      <td>14233.000000</td>\n",
       "      <td>136341.024697</td>\n",
       "      <td>13633.998033</td>\n",
       "      <td>1.461338</td>\n",
       "      <td>376.816991</td>\n",
       "      <td>202.976811</td>\n",
       "      <td>1960.210891</td>\n",
       "      <td>2017.0</td>\n",
       "      <td>2.448718</td>\n",
       "      <td>2.272756</td>\n",
       "      <td>...</td>\n",
       "      <td>NaN</td>\n",
       "      <td>NaN</td>\n",
       "      <td>NaN</td>\n",
       "      <td>NaN</td>\n",
       "      <td>NaN</td>\n",
       "      <td>NaN</td>\n",
       "      <td>NaN</td>\n",
       "      <td>NaN</td>\n",
       "      <td>1.632949</td>\n",
       "      <td>1.969230</td>\n",
       "    </tr>\n",
       "    <tr>\n",
       "      <th>std</th>\n",
       "      <td>8217.282043</td>\n",
       "      <td>78822.308954</td>\n",
       "      <td>7882.230931</td>\n",
       "      <td>0.498512</td>\n",
       "      <td>646.828310</td>\n",
       "      <td>326.449265</td>\n",
       "      <td>271.004165</td>\n",
       "      <td>0.0</td>\n",
       "      <td>1.090358</td>\n",
       "      <td>4.656318</td>\n",
       "      <td>...</td>\n",
       "      <td>NaN</td>\n",
       "      <td>NaN</td>\n",
       "      <td>NaN</td>\n",
       "      <td>NaN</td>\n",
       "      <td>NaN</td>\n",
       "      <td>NaN</td>\n",
       "      <td>NaN</td>\n",
       "      <td>NaN</td>\n",
       "      <td>0.760621</td>\n",
       "      <td>0.350329</td>\n",
       "    </tr>\n",
       "    <tr>\n",
       "      <th>min</th>\n",
       "      <td>1.000000</td>\n",
       "      <td>11.000000</td>\n",
       "      <td>1.000000</td>\n",
       "      <td>1.000000</td>\n",
       "      <td>3.174044</td>\n",
       "      <td>2.895375</td>\n",
       "      <td>1001.000000</td>\n",
       "      <td>2017.0</td>\n",
       "      <td>1.000000</td>\n",
       "      <td>1.000000</td>\n",
       "      <td>...</td>\n",
       "      <td>NaN</td>\n",
       "      <td>NaN</td>\n",
       "      <td>NaN</td>\n",
       "      <td>NaN</td>\n",
       "      <td>NaN</td>\n",
       "      <td>NaN</td>\n",
       "      <td>NaN</td>\n",
       "      <td>NaN</td>\n",
       "      <td>1.000000</td>\n",
       "      <td>1.000000</td>\n",
       "    </tr>\n",
       "    <tr>\n",
       "      <th>25%</th>\n",
       "      <td>7117.000000</td>\n",
       "      <td>68071.000000</td>\n",
       "      <td>6807.000000</td>\n",
       "      <td>1.000000</td>\n",
       "      <td>76.216327</td>\n",
       "      <td>44.494731</td>\n",
       "      <td>2013.000000</td>\n",
       "      <td>2017.0</td>\n",
       "      <td>2.000000</td>\n",
       "      <td>2.000000</td>\n",
       "      <td>...</td>\n",
       "      <td>NaN</td>\n",
       "      <td>NaN</td>\n",
       "      <td>NaN</td>\n",
       "      <td>NaN</td>\n",
       "      <td>NaN</td>\n",
       "      <td>NaN</td>\n",
       "      <td>NaN</td>\n",
       "      <td>NaN</td>\n",
       "      <td>1.000000</td>\n",
       "      <td>2.000000</td>\n",
       "    </tr>\n",
       "    <tr>\n",
       "      <th>50%</th>\n",
       "      <td>14233.000000</td>\n",
       "      <td>136421.000000</td>\n",
       "      <td>13642.000000</td>\n",
       "      <td>1.000000</td>\n",
       "      <td>195.015630</td>\n",
       "      <td>113.260066</td>\n",
       "      <td>2034.000000</td>\n",
       "      <td>2017.0</td>\n",
       "      <td>2.000000</td>\n",
       "      <td>2.000000</td>\n",
       "      <td>...</td>\n",
       "      <td>NaN</td>\n",
       "      <td>NaN</td>\n",
       "      <td>NaN</td>\n",
       "      <td>NaN</td>\n",
       "      <td>NaN</td>\n",
       "      <td>NaN</td>\n",
       "      <td>NaN</td>\n",
       "      <td>NaN</td>\n",
       "      <td>1.000000</td>\n",
       "      <td>2.000000</td>\n",
       "    </tr>\n",
       "    <tr>\n",
       "      <th>75%</th>\n",
       "      <td>21349.000000</td>\n",
       "      <td>204521.000000</td>\n",
       "      <td>20452.000000</td>\n",
       "      <td>2.000000</td>\n",
       "      <td>456.216316</td>\n",
       "      <td>250.143911</td>\n",
       "      <td>2057.000000</td>\n",
       "      <td>2017.0</td>\n",
       "      <td>3.000000</td>\n",
       "      <td>2.000000</td>\n",
       "      <td>...</td>\n",
       "      <td>NaN</td>\n",
       "      <td>NaN</td>\n",
       "      <td>NaN</td>\n",
       "      <td>NaN</td>\n",
       "      <td>NaN</td>\n",
       "      <td>NaN</td>\n",
       "      <td>NaN</td>\n",
       "      <td>NaN</td>\n",
       "      <td>2.000000</td>\n",
       "      <td>2.000000</td>\n",
       "    </tr>\n",
       "    <tr>\n",
       "      <th>max</th>\n",
       "      <td>28465.000000</td>\n",
       "      <td>272671.000000</td>\n",
       "      <td>27267.000000</td>\n",
       "      <td>2.000000</td>\n",
       "      <td>11555.055610</td>\n",
       "      <td>6240.054554</td>\n",
       "      <td>2108.000000</td>\n",
       "      <td>2017.0</td>\n",
       "      <td>4.000000</td>\n",
       "      <td>99.000000</td>\n",
       "      <td>...</td>\n",
       "      <td>NaN</td>\n",
       "      <td>NaN</td>\n",
       "      <td>NaN</td>\n",
       "      <td>NaN</td>\n",
       "      <td>NaN</td>\n",
       "      <td>NaN</td>\n",
       "      <td>NaN</td>\n",
       "      <td>NaN</td>\n",
       "      <td>4.000000</td>\n",
       "      <td>4.000000</td>\n",
       "    </tr>\n",
       "  </tbody>\n",
       "</table>\n",
       "<p>8 rows × 414 columns</p>\n",
       "</div>"
      ],
      "text/plain": [
       "         Unnamed: 0        SEQNUMC      SEQNUMHH          PDAT      PROVWT_D  \\\n",
       "count  28465.000000   28465.000000  28465.000000  28465.000000  15333.000000   \n",
       "mean   14233.000000  136341.024697  13633.998033      1.461338    376.816991   \n",
       "std     8217.282043   78822.308954   7882.230931      0.498512    646.828310   \n",
       "min        1.000000      11.000000      1.000000      1.000000      3.174044   \n",
       "25%     7117.000000   68071.000000   6807.000000      1.000000     76.216327   \n",
       "50%    14233.000000  136421.000000  13642.000000      1.000000    195.015630   \n",
       "75%    21349.000000  204521.000000  20452.000000      2.000000    456.216316   \n",
       "max    28465.000000  272671.000000  27267.000000      2.000000  11555.055610   \n",
       "\n",
       "            RDDWT_D       STRATUM     YEAR    AGECPOXR      HAD_CPOX  ...  \\\n",
       "count  28465.000000  28465.000000  28465.0  390.000000  28465.000000  ...   \n",
       "mean     202.976811   1960.210891   2017.0    2.448718      2.272756  ...   \n",
       "std      326.449265    271.004165      0.0    1.090358      4.656318  ...   \n",
       "min        2.895375   1001.000000   2017.0    1.000000      1.000000  ...   \n",
       "25%       44.494731   2013.000000   2017.0    2.000000      2.000000  ...   \n",
       "50%      113.260066   2034.000000   2017.0    2.000000      2.000000  ...   \n",
       "75%      250.143911   2057.000000   2017.0    3.000000      2.000000  ...   \n",
       "max     6240.054554   2108.000000   2017.0    4.000000     99.000000  ...   \n",
       "\n",
       "       XROTTY8  XROTTY9  XVRCTY4  XVRCTY5  XVRCTY6  XVRCTY7  XVRCTY8  XVRCTY9  \\\n",
       "count      0.0      0.0      0.0      0.0      0.0      0.0      0.0      0.0   \n",
       "mean       NaN      NaN      NaN      NaN      NaN      NaN      NaN      NaN   \n",
       "std        NaN      NaN      NaN      NaN      NaN      NaN      NaN      NaN   \n",
       "min        NaN      NaN      NaN      NaN      NaN      NaN      NaN      NaN   \n",
       "25%        NaN      NaN      NaN      NaN      NaN      NaN      NaN      NaN   \n",
       "50%        NaN      NaN      NaN      NaN      NaN      NaN      NaN      NaN   \n",
       "75%        NaN      NaN      NaN      NaN      NaN      NaN      NaN      NaN   \n",
       "max        NaN      NaN      NaN      NaN      NaN      NaN      NaN      NaN   \n",
       "\n",
       "        INS_STAT2_I   INS_BREAK_I  \n",
       "count  15333.000000  15307.000000  \n",
       "mean       1.632949      1.969230  \n",
       "std        0.760621      0.350329  \n",
       "min        1.000000      1.000000  \n",
       "25%        1.000000      2.000000  \n",
       "50%        1.000000      2.000000  \n",
       "75%        2.000000      2.000000  \n",
       "max        4.000000      4.000000  \n",
       "\n",
       "[8 rows x 414 columns]"
      ]
     },
     "execution_count": 10,
     "metadata": {},
     "output_type": "execute_result"
    }
   ],
   "source": [
    "df.describe()"
   ]
  },
  {
   "cell_type": "code",
   "execution_count": 11,
   "metadata": {},
   "outputs": [
    {
     "data": {
      "text/plain": [
       "(28465, 454)"
      ]
     },
     "execution_count": 11,
     "metadata": {},
     "output_type": "execute_result"
    }
   ],
   "source": [
    "df.shape"
   ]
  },
  {
   "cell_type": "code",
   "execution_count": 12,
   "metadata": {},
   "outputs": [
    {
     "data": {
      "text/plain": [
       "count    28465.000000\n",
       "mean         3.103355\n",
       "std          1.024468\n",
       "min          1.000000\n",
       "25%          2.000000\n",
       "50%          3.000000\n",
       "75%          4.000000\n",
       "max          4.000000\n",
       "Name: EDUC1, dtype: float64"
      ]
     },
     "execution_count": 12,
     "metadata": {},
     "output_type": "execute_result"
    }
   ],
   "source": [
    "df['EDUC1'].describe()"
   ]
  },
  {
   "cell_type": "code",
   "execution_count": 13,
   "metadata": {},
   "outputs": [
    {
     "data": {
      "text/plain": [
       "False"
      ]
     },
     "execution_count": 13,
     "metadata": {},
     "output_type": "execute_result"
    }
   ],
   "source": [
    "edc = df['EDUC1']\n",
    "n = len(edc)\n",
    "12 in edc.values"
   ]
  },
  {
   "cell_type": "code",
   "execution_count": 14,
   "metadata": {},
   "outputs": [
    {
     "data": {
      "text/plain": [
       "{'less than high school': 0.10202002459160373,\n",
       " 'high school': 0.172352011241876,\n",
       " 'more than high school but not college': 0.24588090637625154,\n",
       " 'college': 0.47974705779026877}"
      ]
     },
     "execution_count": 14,
     "metadata": {},
     "output_type": "execute_result"
    }
   ],
   "source": [
    "#method1\n",
    "q1=np.sum(edc==1) / n\n",
    "q2=np.sum(edc==2) / n\n",
    "q3=np.sum(edc==3) / n\n",
    "q4=np.sum(edc==4) / n\n",
    "{\"less than high school\":q1,\n",
    "\"high school\":q2,\n",
    "\"more than high school but not college\":q3,\n",
    "\"college\":q4}\n"
   ]
  },
  {
   "cell_type": "code",
   "execution_count": 16,
   "metadata": {},
   "outputs": [
    {
     "name": "stdout",
     "output_type": "stream",
     "text": [
      "[0.10202002 0.17235201 0.24588091 0.47974706]\n",
      "1.0\n"
     ]
    }
   ],
   "source": [
    "perc = edc.value_counts(normalize=True, sort=False, bins=[0,1,2,3,4])\n",
    "#format = lambda x: round(x,2)\n",
    "#perc.apply(format)\n",
    "#p = perc.apply(format)\n",
    "p = perc.values\n",
    "print(p)\n",
    "print(sum(p))"
   ]
  },
  {
   "cell_type": "code",
   "execution_count": 17,
   "metadata": {},
   "outputs": [
    {
     "data": {
      "text/plain": [
       "{'less than high school': 0.10202002459160373,\n",
       " 'high school': 0.172352011241876,\n",
       " 'more than high school but not college': 0.24588090637625154,\n",
       " 'college': 0.47974705779026877}"
      ]
     },
     "execution_count": 17,
     "metadata": {},
     "output_type": "execute_result"
    }
   ],
   "source": [
    "#method2\n",
    "dit= {\"less than high school\":p[0],\n",
    "    \"high school\":p[1],\n",
    "    \"more than high school but not college\":p[2],\n",
    "    \"college\":p[3]}\n",
    "dit"
   ]
  },
  {
   "cell_type": "code",
   "execution_count": 18,
   "metadata": {},
   "outputs": [
    {
     "data": {
      "text/plain": [
       "0.10202002459160373"
      ]
     },
     "execution_count": 18,
     "metadata": {},
     "output_type": "execute_result"
    }
   ],
   "source": [
    "dit['less than high school']"
   ]
  },
  {
   "cell_type": "code",
   "execution_count": null,
   "metadata": {},
   "outputs": [],
   "source": []
  },
  {
   "cell_type": "code",
   "execution_count": 21,
   "metadata": {},
   "outputs": [
    {
     "name": "stdout",
     "output_type": "stream",
     "text": [
      "[ 2904  4906  6999 13656]\n",
      "28465\n"
     ]
    }
   ],
   "source": [
    "perc2 = edc.value_counts(normalize=False, sort=False, bins=[0,1,2,3,4])\n",
    "#format = lambda x: round(x,2)\n",
    "#perc.apply(format)\n",
    "#p = perc.apply(format)\n",
    "p = perc2.values\n",
    "print(p)\n",
    "print(sum(p))"
   ]
  },
  {
   "cell_type": "code",
   "execution_count": null,
   "metadata": {},
   "outputs": [],
   "source": []
  },
  {
   "cell_type": "code",
   "execution_count": null,
   "metadata": {},
   "outputs": [],
   "source": []
  },
  {
   "cell_type": "markdown",
   "metadata": {
    "deletable": false,
    "editable": false,
    "hideCode": false,
    "hidePrompt": false,
    "nbgrader": {
     "checksum": "aaa5e730f40ba21c1bc94f864bad4742",
     "grade": false,
     "grade_id": "cell-58fc2e5938733f6a",
     "locked": true,
     "schema_version": 1,
     "solution": false
    }
   },
   "source": [
    "## Question 1\n",
    "Write a function called `proportion_of_education` which returns the proportion of children in the dataset who had a mother with the education levels equal to less than high school (<12), high school (12), more than high school but not a college graduate (>12) and college degree.\n",
    "\n",
    "*This function should return a dictionary in the form of (use the correct numbers, do not round numbers):* \n",
    "```\n",
    "    {\"less than high school\":0.2,\n",
    "    \"high school\":0.4,\n",
    "    \"more than high school but not college\":0.2,\n",
    "    \"college\":0.2}\n",
    "```\n"
   ]
  },
  {
   "cell_type": "code",
   "execution_count": 19,
   "metadata": {
    "deletable": false,
    "nbgrader": {
     "checksum": "0ac58deb3f5ac988c643e903cbee7f3a",
     "grade": false,
     "grade_id": "cell-eea16d020eb52ae7",
     "locked": false,
     "schema_version": 1,
     "solution": true
    }
   },
   "outputs": [],
   "source": [
    "def proportion_of_education():\n",
    "    # your code goes here\n",
    "    # YOUR CODE HERE\n",
    "    ##create quantiles (percents) based on 5 categories\n",
    "    ##Normalize=True presents as percents, not counts\n",
    "    perc = edc.value_counts(normalize=True, sort=False, bins=[0,1,2,3,4])\n",
    "    p = perc.values\n",
    "    dic = {\"less than high school\":p[0],\n",
    "    \"high school\":p[1],\n",
    "    \"more than high school but not college\":p[2],\n",
    "    \"college\":p[3]}\n",
    "    return dic\n",
    "    raise NotImplementedError()"
   ]
  },
  {
   "cell_type": "code",
   "execution_count": 20,
   "metadata": {
    "deletable": false,
    "editable": false,
    "hideCode": false,
    "hidePrompt": false,
    "nbgrader": {
     "checksum": "ac5d91a24a7f72f66c25d242c3d24a50",
     "grade": true,
     "grade_id": "cell-c0eeef201366f51c",
     "locked": true,
     "points": 1,
     "schema_version": 1,
     "solution": false
    }
   },
   "outputs": [],
   "source": [
    "assert type(proportion_of_education())==type({}), \"You must return a dictionary.\"\n",
    "assert len(proportion_of_education()) == 4, \"You have not returned a dictionary with four items in it.\"\n",
    "assert \"less than high school\" in proportion_of_education().keys(), \"You have not returned a dictionary with the correct keys.\"\n",
    "assert \"high school\" in proportion_of_education().keys(), \"You have not returned a dictionary with the correct keys.\"\n",
    "assert \"more than high school but not college\" in proportion_of_education().keys(), \"You have not returned a dictionary with the correct keys.\"\n",
    "assert \"college\" in proportion_of_education().keys(), \"You have not returned a dictionary with the correct keys.\"\n"
   ]
  },
  {
   "cell_type": "code",
   "execution_count": null,
   "metadata": {},
   "outputs": [],
   "source": []
  },
  {
   "cell_type": "code",
   "execution_count": 228,
   "metadata": {},
   "outputs": [
    {
     "name": "stdout",
     "output_type": "stream",
     "text": [
      "24261\n"
     ]
    },
    {
     "data": {
      "text/plain": [
       "4085"
      ]
     },
     "execution_count": 228,
     "metadata": {},
     "output_type": "execute_result"
    }
   ],
   "source": [
    "bf = sum(df['CBF_01']==1)\n",
    "print(bf)\n",
    "nbf = bf = sum(df['CBF_01']==2)\n",
    "nbf"
   ]
  },
  {
   "cell_type": "code",
   "execution_count": 229,
   "metadata": {},
   "outputs": [
    {
     "data": {
      "text/plain": [
       "0        NaN\n",
       "1        NaN\n",
       "2        NaN\n",
       "3        3.0\n",
       "4        0.0\n",
       "        ... \n",
       "28460    NaN\n",
       "28461    NaN\n",
       "28462    NaN\n",
       "28463    NaN\n",
       "28464    NaN\n",
       "Name: P_NUMFLU, Length: 28465, dtype: float64"
      ]
     },
     "execution_count": 229,
     "metadata": {},
     "output_type": "execute_result"
    }
   ],
   "source": [
    "df['P_NUMFLU']"
   ]
  },
  {
   "cell_type": "code",
   "execution_count": 230,
   "metadata": {},
   "outputs": [],
   "source": [
    "dff = df[df['P_NUMFLU'].notna()]"
   ]
  },
  {
   "cell_type": "code",
   "execution_count": 231,
   "metadata": {},
   "outputs": [
    {
     "name": "stdout",
     "output_type": "stream",
     "text": [
      "13291\n"
     ]
    },
    {
     "data": {
      "text/plain": [
       "1997"
      ]
     },
     "execution_count": 231,
     "metadata": {},
     "output_type": "execute_result"
    }
   ],
   "source": [
    "bf = sum(dff['CBF_01']==1)\n",
    "print(bf)\n",
    "nbf = bf = sum(dff['CBF_01']==2)\n",
    "nbf"
   ]
  },
  {
   "cell_type": "code",
   "execution_count": 232,
   "metadata": {},
   "outputs": [],
   "source": [
    "n1 = dff[dff['CBF_01'] == 1]['P_NUMFLU']\n",
    "n2 = dff[dff['CBF_01'] == 2]['P_NUMFLU']"
   ]
  },
  {
   "cell_type": "code",
   "execution_count": 233,
   "metadata": {},
   "outputs": [
    {
     "data": {
      "text/plain": [
       "(1.8799187420058687, 1.5963945918878317)"
      ]
     },
     "execution_count": 233,
     "metadata": {},
     "output_type": "execute_result"
    }
   ],
   "source": [
    "n1.mean(),n2.mean()"
   ]
  },
  {
   "cell_type": "markdown",
   "metadata": {
    "deletable": false,
    "editable": false,
    "nbgrader": {
     "checksum": "562b78b7b9b79580269be0a3bebf4b42",
     "grade": false,
     "grade_id": "cell-8fcbb64516283f52",
     "locked": true,
     "schema_version": 1,
     "solution": false
    }
   },
   "source": [
    "## Question 2\n",
    "\n",
    "Let's explore the relationship between being fed breastmilk as a child and getting a seasonal influenza vaccine from a healthcare provider. Return a tuple of the average number of influenza vaccines for those children we know received breastmilk as a child and those who know did not.\n",
    "\n",
    "*This function should return a tuple in the form (use the correct numbers:*\n",
    "```\n",
    "(2.5, 0.1)\n",
    "```"
   ]
  },
  {
   "cell_type": "code",
   "execution_count": 234,
   "metadata": {
    "deletable": false,
    "nbgrader": {
     "checksum": "a405d639063c4a6408365479f29c95c9",
     "grade": false,
     "grade_id": "cell-77f18c512324eabb",
     "locked": false,
     "schema_version": 1,
     "solution": true
    }
   },
   "outputs": [],
   "source": [
    "def average_influenza_doses():\n",
    "    # YOUR CODE HERE\n",
    "    dff = df[df['P_NUMFLU'].notna()]\n",
    "    n1 = dff[dff['CBF_01'] == 1]['P_NUMFLU']\n",
    "    n2 = dff[dff['CBF_01'] == 2]['P_NUMFLU']\n",
    "    return(n1.mean(),n2.mean())\n",
    "    raise NotImplementedError()"
   ]
  },
  {
   "cell_type": "code",
   "execution_count": 235,
   "metadata": {
    "deletable": false,
    "editable": false,
    "nbgrader": {
     "checksum": "19be955e97fdf7162d43fbb7c2c40951",
     "grade": true,
     "grade_id": "cell-54a3ba6cff31caa7",
     "locked": true,
     "points": 1,
     "schema_version": 1,
     "solution": false
    }
   },
   "outputs": [],
   "source": [
    "assert len(average_influenza_doses())==2, \"Return two values in a tuple, the first for yes and the second for no.\"\n"
   ]
  },
  {
   "cell_type": "code",
   "execution_count": null,
   "metadata": {},
   "outputs": [],
   "source": []
  },
  {
   "cell_type": "code",
   "execution_count": 236,
   "metadata": {},
   "outputs": [
    {
     "data": {
      "text/plain": [
       "0"
      ]
     },
     "execution_count": 236,
     "metadata": {},
     "output_type": "execute_result"
    }
   ],
   "source": [
    "np.sum(df['HAD_CPOX'].isna())"
   ]
  },
  {
   "cell_type": "raw",
   "metadata": {},
   "source": [
    "dff = df[df['P_NUMVRC'].notna()]\n",
    "dff = dff[dff['P_NUMVRC'] > 0]\n",
    "dff['HAD_CPOX'].replace(77,np.nan,inplace=True)\n",
    "dff = dff[dff['HAD_CPOX'].notna()]\n",
    "summ = dff.shape[0]\n",
    "n1 = np.sum(dff['HAD_CPOX'] == 1)\n",
    "n2 = np.sum(dff['HAD_CPOX'] == 2)\n",
    "dicc = {\"male\":n1/summ, \n",
    "        \"female\":n2/summ}\n",
    "dicc['male'] + dicc['female']"
   ]
  },
  {
   "cell_type": "raw",
   "metadata": {},
   "source": [
    "\n",
    "# YOUR CODE HERE\n",
    "dff = df[df['P_NUMVRC'].notna()]\n",
    "dff['HAD_CPOX'].replace(77,np.nan,inplace=True)\n",
    "dff = dff[dff['HAD_CPOX'].notna()]\n",
    "\n",
    "m1 = dff[dff['P_NUMVRC'] > 0]\n",
    "f1 = dff[dff['P_NUMVRC'] == 0]\n",
    "\n",
    "m2 = np.sum(m1['HAD_CPOX'] == 1)\n",
    "f2 = np.sum(f1['HAD_CPOX'] == 1)\n",
    "\n",
    "sum1 = m1.shape[0]\n",
    "sum2 = f1.shape[0]\n",
    "\n",
    "s1 = float(m2/sum1)\n",
    "s2 = float(f2/sum2)\n",
    "\n",
    "#s1 = (m2/sum1).item()\n",
    "#s2 = (f2/sum2).item()\n",
    "\n",
    "dicc = {\"male\":s1, \n",
    "        \"female\":s2}\n"
   ]
  },
  {
   "cell_type": "code",
   "execution_count": 237,
   "metadata": {},
   "outputs": [
    {
     "data": {
      "text/plain": [
       "(28465, 454)"
      ]
     },
     "execution_count": 237,
     "metadata": {},
     "output_type": "execute_result"
    }
   ],
   "source": [
    "df.shape"
   ]
  },
  {
   "cell_type": "raw",
   "metadata": {},
   "source": [
    "\n",
    "# YOUR CODE HERE\n",
    "dff = df[df['P_NUMVRC'].notna()]\n",
    "dff['HAD_CPOX'].replace(77,np.nan,inplace=True)\n",
    "dff = dff[dff['HAD_CPOX'].notna()]\n",
    "\n",
    "m1 = dff[dff['P_NUMVRC'] >= 1]\n",
    "f1 = dff[dff['P_NUMVRC'] < 1]\n",
    "\n",
    "m2 = m1[m1['HAD_CPOX'] == 1]\n",
    "f2 = f1[f1['HAD_CPOX'] == 1]\n",
    "\n",
    "sum1 = m2.shape[0] / m1.shape[0]\n",
    "sum2 = f2.shape[0] / f1.shape[0]\n",
    "\n",
    "dicc = {\"male\":sum1,\n",
    "        \"female\":sum2}"
   ]
  },
  {
   "cell_type": "code",
   "execution_count": null,
   "metadata": {},
   "outputs": [],
   "source": []
  },
  {
   "cell_type": "raw",
   "metadata": {},
   "source": [
    "\n",
    "# YOUR CODE HERE\n",
    "dff = df.copy()\n",
    "dff['HAD_CPOX'].replace([77,99],[None,None],inplace=True)\n",
    "#dff['P_NUMVRC'].replace(np.nan,None,inplace=True)\n",
    "dfn = dff[dff['HAD_CPOX'].notna()]\n",
    "dfnn = dfn[dfn['P_NUMVRC'].notna()]\n",
    "M = dfnn[dfnn['P_NUMVRC'] > 0]\n",
    "F = dfnn[dfnn['P_NUMVRC'] <= 0]\n",
    "m1 = M[M['HAD_CPOX'] == 1]\n",
    "m2 = M[M['HAD_CPOX'] == 2]\n",
    "f1 = F[F['HAD_CPOX'] == 1]\n",
    "f2 = F[F['HAD_CPOX'] == 2]\n",
    "#sum1 = m1.shape[0] / m2.shape[0]\n",
    "#sum2 = f1.shape[0] / f2.shape[0]\n",
    "sum1 = len(f1['HAD_CPOX'])/len(f2['HAD_CPOX'])\n",
    "sum2 = len(m1['HAD_CPOX'])/len(m2['HAD_CPOX'])\n",
    "dicc = {\"male\":sum1,\n",
    "    \"female\":sum2}\n"
   ]
  },
  {
   "cell_type": "code",
   "execution_count": 238,
   "metadata": {},
   "outputs": [],
   "source": [
    "\n",
    "# YOUR CODE HERE\n",
    "dff = df.copy()\n",
    "dff['HAD_CPOX'].replace([77,99],[None,None],inplace=True)\n",
    "#dff['P_NUMVRC'].replace(np.nan,None,inplace=True)\n",
    "dfn = dff[dff['HAD_CPOX'].notna()]\n",
    "dfnn = dfn[dfn['P_NUMVRC'].notna()]\n",
    "A = dfnn[dfnn['P_NUMVRC'] > 0]\n",
    "M = A[A['SEX'] == 1]\n",
    "F = A[A['SEX'] == 2]\n",
    "m1 = M[M['HAD_CPOX'] == 1]\n",
    "m2 = M[M['HAD_CPOX'] == 2]\n",
    "f1 = F[F['HAD_CPOX'] == 1]\n",
    "f2 = F[F['HAD_CPOX'] == 2]\n",
    "sum1 = m1.shape[0] / m2.shape[0]\n",
    "sum2 = f1.shape[0] / f2.shape[0]\n",
    "#sum1 = len(f1['HAD_CPOX'])/len(f2['HAD_CPOX'])\n",
    "#sum2 = len(m1['HAD_CPOX'])/len(m2['HAD_CPOX'])\n",
    "dicc = {\"male\":sum1,\n",
    "    \"female\":sum2}\n"
   ]
  },
  {
   "cell_type": "code",
   "execution_count": 239,
   "metadata": {},
   "outputs": [
    {
     "data": {
      "text/plain": [
       "{'male': 0.009675583380762664, 'female': 0.0077918259335489565}"
      ]
     },
     "execution_count": 239,
     "metadata": {},
     "output_type": "execute_result"
    }
   ],
   "source": [
    "dicc"
   ]
  },
  {
   "cell_type": "code",
   "execution_count": 240,
   "metadata": {},
   "outputs": [
    {
     "data": {
      "text/plain": [
       "10       1\n",
       "12       1\n",
       "16       1\n",
       "19       1\n",
       "21       1\n",
       "        ..\n",
       "28435    1\n",
       "28436    1\n",
       "28438    1\n",
       "28447    1\n",
       "28449    1\n",
       "Name: SEX, Length: 7096, dtype: int64"
      ]
     },
     "execution_count": 240,
     "metadata": {},
     "output_type": "execute_result"
    }
   ],
   "source": [
    "M['SEX']"
   ]
  },
  {
   "cell_type": "code",
   "execution_count": 241,
   "metadata": {},
   "outputs": [
    {
     "data": {
      "text/plain": [
       "0"
      ]
     },
     "execution_count": 241,
     "metadata": {},
     "output_type": "execute_result"
    }
   ],
   "source": [
    "np.sum(dfnn['P_NUMVRC'].isna())"
   ]
  },
  {
   "cell_type": "code",
   "execution_count": 242,
   "metadata": {},
   "outputs": [
    {
     "data": {
      "text/plain": [
       "{'male': 0.009675583380762664, 'female': 0.0077918259335489565}"
      ]
     },
     "execution_count": 242,
     "metadata": {},
     "output_type": "execute_result"
    }
   ],
   "source": [
    "dicc"
   ]
  },
  {
   "cell_type": "code",
   "execution_count": 243,
   "metadata": {},
   "outputs": [
    {
     "data": {
      "text/plain": [
       "0"
      ]
     },
     "execution_count": 243,
     "metadata": {},
     "output_type": "execute_result"
    }
   ],
   "source": [
    "np.sum(dfnn['P_NUMVRC'].isnull())"
   ]
  },
  {
   "cell_type": "code",
   "execution_count": 244,
   "metadata": {},
   "outputs": [
    {
     "data": {
      "text/plain": [
       "0"
      ]
     },
     "execution_count": 244,
     "metadata": {},
     "output_type": "execute_result"
    }
   ],
   "source": [
    "np.sum(dfnn['HAD_CPOX'].isnull())"
   ]
  },
  {
   "cell_type": "code",
   "execution_count": 245,
   "metadata": {},
   "outputs": [
    {
     "data": {
      "text/plain": [
       "array([1., 0., 2., 3.])"
      ]
     },
     "execution_count": 245,
     "metadata": {},
     "output_type": "execute_result"
    }
   ],
   "source": [
    "dfnn['P_NUMVRC'].unique()"
   ]
  },
  {
   "cell_type": "code",
   "execution_count": 246,
   "metadata": {},
   "outputs": [
    {
     "data": {
      "text/plain": [
       "array([2., 1.])"
      ]
     },
     "execution_count": 246,
     "metadata": {},
     "output_type": "execute_result"
    }
   ],
   "source": [
    "dfnn['HAD_CPOX'].unique()"
   ]
  },
  {
   "cell_type": "code",
   "execution_count": 247,
   "metadata": {},
   "outputs": [
    {
     "data": {
      "text/plain": [
       "(28465, 454)"
      ]
     },
     "execution_count": 247,
     "metadata": {},
     "output_type": "execute_result"
    }
   ],
   "source": [
    "dff.shape"
   ]
  },
  {
   "cell_type": "code",
   "execution_count": 248,
   "metadata": {},
   "outputs": [
    {
     "data": {
      "text/plain": [
       "(28357, 454)"
      ]
     },
     "execution_count": 248,
     "metadata": {},
     "output_type": "execute_result"
    }
   ],
   "source": [
    "dfn.shape"
   ]
  },
  {
   "cell_type": "code",
   "execution_count": 249,
   "metadata": {},
   "outputs": [
    {
     "data": {
      "text/plain": [
       "(15286, 454)"
      ]
     },
     "execution_count": 249,
     "metadata": {},
     "output_type": "execute_result"
    }
   ],
   "source": [
    "dfnn.shape"
   ]
  },
  {
   "cell_type": "code",
   "execution_count": null,
   "metadata": {},
   "outputs": [],
   "source": []
  },
  {
   "cell_type": "code",
   "execution_count": null,
   "metadata": {},
   "outputs": [],
   "source": []
  },
  {
   "cell_type": "code",
   "execution_count": 250,
   "metadata": {},
   "outputs": [
    {
     "data": {
      "text/plain": [
       "(28357, 454)"
      ]
     },
     "execution_count": 250,
     "metadata": {},
     "output_type": "execute_result"
    }
   ],
   "source": [
    "dfn.shape"
   ]
  },
  {
   "cell_type": "code",
   "execution_count": 251,
   "metadata": {},
   "outputs": [
    {
     "data": {
      "text/plain": [
       "28357"
      ]
     },
     "execution_count": 251,
     "metadata": {},
     "output_type": "execute_result"
    }
   ],
   "source": [
    "g = dff[dff['HAD_CPOX'].notna()]\n",
    "len(g['HAD_CPOX'])"
   ]
  },
  {
   "cell_type": "code",
   "execution_count": 252,
   "metadata": {},
   "outputs": [
    {
     "data": {
      "text/plain": [
       "28357"
      ]
     },
     "execution_count": 252,
     "metadata": {},
     "output_type": "execute_result"
    }
   ],
   "source": [
    "len(dfn['HAD_CPOX'])"
   ]
  },
  {
   "cell_type": "code",
   "execution_count": 253,
   "metadata": {},
   "outputs": [
    {
     "data": {
      "text/plain": [
       "array([2., 1.])"
      ]
     },
     "execution_count": 253,
     "metadata": {},
     "output_type": "execute_result"
    }
   ],
   "source": [
    "dfn['HAD_CPOX'].unique()"
   ]
  },
  {
   "cell_type": "code",
   "execution_count": 254,
   "metadata": {},
   "outputs": [
    {
     "data": {
      "text/plain": [
       "float"
      ]
     },
     "execution_count": 254,
     "metadata": {},
     "output_type": "execute_result"
    }
   ],
   "source": [
    "type(dicc['female'])"
   ]
  },
  {
   "cell_type": "code",
   "execution_count": 255,
   "metadata": {},
   "outputs": [
    {
     "data": {
      "text/plain": [
       "True"
      ]
     },
     "execution_count": 255,
     "metadata": {},
     "output_type": "execute_result"
    }
   ],
   "source": [
    "dicc = {\"male\":0.2,\n",
    "    \"female\":0.4}\n",
    "\n",
    "-1 <= dicc['female'] <= 1"
   ]
  },
  {
   "cell_type": "markdown",
   "metadata": {
    "deletable": false,
    "editable": false,
    "nbgrader": {
     "checksum": "e10e2163f5957a0c398ef4f0b76b4efe",
     "grade": false,
     "grade_id": "cell-f63377f3c97aa7c4",
     "locked": true,
     "schema_version": 1,
     "solution": false
    }
   },
   "source": [
    "## Question 3\n",
    "It would be interesting to see if there is any evidence of a link between vaccine effectiveness and sex of the child. Calculate the ratio of the number of children who contracted chickenpox but were vaccinated against it (at least one varicella dose) versus those who were vaccinated but did not contract chicken pox. Return results by sex. \n",
    "\n",
    "*This function should return a dictionary in the form of (use the correct numbers):* \n",
    "```\n",
    "    {\"male\":0.2,\n",
    "    \"female\":0.4}\n",
    "```\n",
    "\n",
    "Note: To aid in verification, the `chickenpox_by_sex()['female']` value the autograder is looking for starts with the digits `0.0077`."
   ]
  },
  {
   "cell_type": "code",
   "execution_count": 257,
   "metadata": {
    "deletable": false,
    "nbgrader": {
     "checksum": "b4d1b58acae002bc73eb0b19f95bc4af",
     "grade": false,
     "grade_id": "cell-a0a9e6fe67698006",
     "locked": false,
     "schema_version": 1,
     "solution": true
    }
   },
   "outputs": [],
   "source": [
    "def chickenpox_by_sex():\n",
    "    # YOUR CODE HERE\n",
    "    dff = df.copy()\n",
    "    dff['HAD_CPOX'].replace([77,99],[None,None],inplace=True)\n",
    "    #dff['P_NUMVRC'].replace(np.nan,None,inplace=True)\n",
    "    ##Remove na & nan values from DataFrame with by considering HAD_CPOX and P_NUMVRC column respectively\n",
    "    dfn = dff[dff['HAD_CPOX'].notna()]\n",
    "    dfnn = dfn[dfn['P_NUMVRC'].notna()]\n",
    "    ## determined children that are vaccinated against chicken-pox (at least 1 varicella dose):\n",
    "    A = dfnn[dfnn['P_NUMVRC'] > 0]\n",
    "    ## separate vaccinated children by sex\n",
    "    M = A[A['SEX'] == 1]\n",
    "    F = A[A['SEX'] == 2]\n",
    "    ## separate males that have contracted chicken_pox and those that did not\n",
    "    m1 = M[M['HAD_CPOX'] == 1]\n",
    "    m2 = M[M['HAD_CPOX'] == 2]\n",
    "    ## separate females that have contracted chicken_pox and those that did not\n",
    "    f1 = F[F['HAD_CPOX'] == 1]\n",
    "    f2 = F[F['HAD_CPOX'] == 2]\n",
    "    ## calculate the ratio of males that contracted chicken_pox vs those that did not (do the same for female)\n",
    "    sum1 = m1.shape[0] / m2.shape[0]\n",
    "    sum2 = f1.shape[0] / f2.shape[0]\n",
    "    #sum1 = len(f1['HAD_CPOX'])/len(f2['HAD_CPOX'])\n",
    "    #sum2 = len(m1['HAD_CPOX'])/len(m2['HAD_CPOX'])\n",
    "    dicc = {\"male\":sum1,\n",
    "        \"female\":sum2}\n",
    "    return dicc\n",
    "    raise NotImplementedError()"
   ]
  },
  {
   "cell_type": "code",
   "execution_count": 258,
   "metadata": {
    "deletable": false,
    "editable": false,
    "nbgrader": {
     "checksum": "1b6a113a633c55699ae478a3a9ee9c33",
     "grade": true,
     "grade_id": "cell-c4f1714db100c865",
     "locked": true,
     "points": 1,
     "schema_version": 1,
     "solution": false
    }
   },
   "outputs": [],
   "source": [
    "assert len(chickenpox_by_sex())==2, \"Return a dictionary with two items, the first for males and the second for females.\"\n"
   ]
  },
  {
   "cell_type": "code",
   "execution_count": 259,
   "metadata": {},
   "outputs": [
    {
     "data": {
      "text/plain": [
       "{'male': 0.009675583380762664, 'female': 0.0077918259335489565}"
      ]
     },
     "execution_count": 259,
     "metadata": {},
     "output_type": "execute_result"
    }
   ],
   "source": [
    "chickenpox_by_sex()"
   ]
  },
  {
   "cell_type": "code",
   "execution_count": 260,
   "metadata": {},
   "outputs": [],
   "source": [
    "\n",
    "import scipy.stats as stats\n",
    "import numpy as np\n",
    "import pandas as pd\n",
    "\n",
    "# YOUR CODE HERE\n",
    "dff = df.copy()\n",
    "dff['HAD_CPOX'].replace([77,99],[None,None],inplace=True)\n",
    "#dff['P_NUMVRC'].replace(np.nan,None,inplace=True)\n",
    "dff = dff[dff['HAD_CPOX'].notna()]\n",
    "dff = dff[dff['P_NUMVRC'].notna()]\n",
    "dft['had_chickenpox_column'] = dff['HAD_CPOX']\n",
    "dft['num_chickenpox_vaccine_column'] = dff['P_NUMVRC']   \n",
    "\n",
    "# this is just an example dataframe\n",
    "dft=pd.DataFrame({\"had_chickenpox_column\":np.random.randint(1,3,size=(100)),\n",
    "               \"num_chickenpox_vaccine_column\":np.random.randint(0,6,size=(100))})\n",
    "\n",
    "# here is some stub code to actually run the correlation\n",
    "corr, pval=stats.pearsonr(dft[\"had_chickenpox_column\"],dft[\"num_chickenpox_vaccine_column\"])\n",
    "\n",
    "# just return the correlation\n",
    "#return corr\n",
    "\n",
    "                                \n",
    "                                "
   ]
  },
  {
   "cell_type": "code",
   "execution_count": 261,
   "metadata": {},
   "outputs": [
    {
     "data": {
      "text/plain": [
       "-0.038018431040293454"
      ]
     },
     "execution_count": 261,
     "metadata": {},
     "output_type": "execute_result"
    }
   ],
   "source": [
    "corr"
   ]
  },
  {
   "cell_type": "code",
   "execution_count": 262,
   "metadata": {},
   "outputs": [
    {
     "data": {
      "text/plain": [
       "0.7072587028714442"
      ]
     },
     "execution_count": 262,
     "metadata": {},
     "output_type": "execute_result"
    }
   ],
   "source": [
    "pval"
   ]
  },
  {
   "cell_type": "markdown",
   "metadata": {},
   "source": [
    "## Question 4\n",
    "A correlation is a statistical relationship between two variables. If we wanted to know if vaccines work, we might look at the correlation between the use of the vaccine and whether it results in prevention of the infection or disease [1]. In this question, you are to see if there is a correlation between having had the chicken pox and the number of chickenpox vaccine doses given (varicella).\n",
    "\n",
    "Some notes on interpreting the answer. The `had_chickenpox_column` is either `1` (for yes) or `2` (for no), and the `num_chickenpox_vaccine_column` is the number of doses a child has been given of the varicella vaccine. A positive correlation (e.g., `corr > 0`) means that an increase in `had_chickenpox_column` (which means more no’s) would also increase the values of `num_chickenpox_vaccine_column` (which means more doses of vaccine). If there is a negative correlation (e.g., `corr < 0`), it indicates that having had chickenpox is related to an increase in the number of vaccine doses.\n",
    "\n",
    "Also, `pval` is the probability that we observe a correlation between `had_chickenpox_column` and `num_chickenpox_vaccine_column` which is greater than or equal to a particular value occurred by chance. A small `pval` means that the observed correlation is highly unlikely to occur by chance. In this case, `pval` should be very small (will end in `e-18` indicating a very small number).\n",
    "\n",
    "[1] This isn’t really the full picture, since we are not looking at when the dose was given. It’s possible that children had chickenpox and then their parents went to get them the vaccine. Does this dataset have the data we would need to investigate the timing of the dose?"
   ]
  },
  {
   "cell_type": "code",
   "execution_count": 263,
   "metadata": {
    "deletable": false,
    "nbgrader": {
     "checksum": "3e645859949447913cd11d30eb33cb1e",
     "grade": false,
     "grade_id": "cell-8afff07f564cf79a",
     "locked": false,
     "schema_version": 1,
     "solution": true
    }
   },
   "outputs": [],
   "source": [
    "def corr_chickenpox():\n",
    "    import scipy.stats as stats\n",
    "    import numpy as np\n",
    "    import pandas as pd\n",
    "    \n",
    "    # YOUR CODE HERE\n",
    "    dff = df.copy()\n",
    "    dff['HAD_CPOX'].replace([77,99],[None,None],inplace=True)\n",
    "    #dff['P_NUMVRC'].replace(np.nan,None,inplace=True)\n",
    "    dff = dff[dff['HAD_CPOX'].notna()]\n",
    "    dff = dff[dff['P_NUMVRC'].notna()]\n",
    "    # this is just an example dataframe\n",
    "    dft=pd.DataFrame({\"had_chickenpox_column\":dff['HAD_CPOX'],\n",
    "                   \"num_chickenpox_vaccine_column\":dff['P_NUMVRC']})\n",
    "    # here is some stub code to actually run the correlation\n",
    "    corr, pval=stats.pearsonr(dft[\"had_chickenpox_column\"],dft[\"num_chickenpox_vaccine_column\"])\n",
    "    # just return the correlation\n",
    "    #return corr\n",
    "    return corr\n",
    "    raise NotImplementedError()"
   ]
  },
  {
   "cell_type": "code",
   "execution_count": 264,
   "metadata": {
    "deletable": false,
    "editable": false,
    "nbgrader": {
     "checksum": "ac50ccb747b99f6bbcc76da017e66528",
     "grade": true,
     "grade_id": "cell-73408733533a29a5",
     "locked": true,
     "points": 1,
     "schema_version": 1,
     "solution": false
    }
   },
   "outputs": [],
   "source": [
    "assert -1<=corr_chickenpox()<=1, \"You must return a float number between -1.0 and 1.0.\"\n"
   ]
  },
  {
   "cell_type": "code",
   "execution_count": null,
   "metadata": {},
   "outputs": [],
   "source": []
  }
 ],
 "metadata": {
  "anaconda-cloud": {},
  "coursera": {
   "schema_names": [
    "mooc_adswpy_1_v2_assignment2"
   ]
  },
  "hide_code_all_hidden": false,
  "kernelspec": {
   "display_name": "Python 3",
   "language": "python",
   "name": "python3"
  },
  "language_info": {
   "codemirror_mode": {
    "name": "ipython",
    "version": 3
   },
   "file_extension": ".py",
   "mimetype": "text/x-python",
   "name": "python",
   "nbconvert_exporter": "python",
   "pygments_lexer": "ipython3",
   "version": "3.8.5"
  }
 },
 "nbformat": 4,
 "nbformat_minor": 1
}
